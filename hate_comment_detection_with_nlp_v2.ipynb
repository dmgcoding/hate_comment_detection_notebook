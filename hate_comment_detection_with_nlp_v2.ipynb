{
 "cells": [
  {
   "cell_type": "markdown",
   "metadata": {
    "id": "Pq63v5718Y1V"
   },
   "source": [
    "# Building model with keras to detect hate speech probability\n",
    "\n",
    "This is a simple project to build a predictive model to predict if a tweet/comment contains offensive language, hate speech.\n",
    "\n",
    "dataset is used from kaggle - https://www.kaggle.com/datasets/mrmorj/hate-speech-and-offensive-language-dataset\n",
    "\n",
    "end result is to build a model with rnn that detects hate/offensive comments/tweets and save word indexes to use for encoding inputs.\n"
   ]
  },
  {
   "cell_type": "code",
   "execution_count": 2,
   "metadata": {
    "executionInfo": {
     "elapsed": 3720,
     "status": "ok",
     "timestamp": 1687942442283,
     "user": {
      "displayName": "Shehan DMG",
      "userId": "14911428634724278187"
     },
     "user_tz": -330
    },
    "id": "ME43Boqb8-zc"
   },
   "outputs": [],
   "source": [
    "# imports\n",
    "import tensorflow as tf\n",
    "import numpy as np\n",
    "import pandas as pd\n",
    "import matplotlib.pyplot as plt\n",
    "keras = tf.keras\n",
    "layers = keras.layers\n",
    "Tokenizer = keras.preprocessing.text.Tokenizer"
   ]
  },
  {
   "cell_type": "markdown",
   "metadata": {
    "id": "us-fujxP9cHr"
   },
   "source": [
    "load the csv file.\n",
    "\n",
    "csv link - https://drive.google.com/uc?export=download&id=1kZENny35sk8my44iorHtrpFnE0sGBZTk\n",
    "\n",
    "classes are hatespeech,offensive and neither(ok), represented by 0,1,2 respectively."
   ]
  },
  {
   "cell_type": "code",
   "execution_count": 27,
   "metadata": {
    "executionInfo": {
     "elapsed": 5150,
     "status": "ok",
     "timestamp": 1687945558539,
     "user": {
      "displayName": "Shehan DMG",
      "userId": "14911428634724278187"
     },
     "user_tz": -330
    },
    "id": "pTCA48MK9bEz"
   },
   "outputs": [],
   "source": [
    "df = pd.read_csv('https://drive.google.com/uc?export=download&id=1kZENny35sk8my44iorHtrpFnE0sGBZTk', header=0)"
   ]
  },
  {
   "cell_type": "code",
   "execution_count": 28,
   "metadata": {
    "colab": {
     "base_uri": "https://localhost:8080/",
     "height": 206
    },
    "executionInfo": {
     "elapsed": 11,
     "status": "ok",
     "timestamp": 1687945558539,
     "user": {
      "displayName": "Shehan DMG",
      "userId": "14911428634724278187"
     },
     "user_tz": -330
    },
    "id": "RVopZD0U-Qxt",
    "outputId": "2a5497d9-1c01-4dc2-9c47-f7d15f711717"
   },
   "outputs": [
    {
     "data": {
      "text/html": [
       "\n",
       "  <div id=\"df-4a46fd25-bf57-49cd-aeee-5a999f1abbd8\">\n",
       "    <div class=\"colab-df-container\">\n",
       "      <div>\n",
       "<style scoped>\n",
       "    .dataframe tbody tr th:only-of-type {\n",
       "        vertical-align: middle;\n",
       "    }\n",
       "\n",
       "    .dataframe tbody tr th {\n",
       "        vertical-align: top;\n",
       "    }\n",
       "\n",
       "    .dataframe thead th {\n",
       "        text-align: right;\n",
       "    }\n",
       "</style>\n",
       "<table border=\"1\" class=\"dataframe\">\n",
       "  <thead>\n",
       "    <tr style=\"text-align: right;\">\n",
       "      <th></th>\n",
       "      <th>Unnamed: 0</th>\n",
       "      <th>count</th>\n",
       "      <th>hate_speech</th>\n",
       "      <th>offensive_language</th>\n",
       "      <th>neither</th>\n",
       "      <th>class</th>\n",
       "      <th>tweet</th>\n",
       "    </tr>\n",
       "  </thead>\n",
       "  <tbody>\n",
       "    <tr>\n",
       "      <th>0</th>\n",
       "      <td>0</td>\n",
       "      <td>3</td>\n",
       "      <td>0</td>\n",
       "      <td>0</td>\n",
       "      <td>3</td>\n",
       "      <td>2</td>\n",
       "      <td>!!! RT @mayasolovely: As a woman you shouldn't...</td>\n",
       "    </tr>\n",
       "    <tr>\n",
       "      <th>1</th>\n",
       "      <td>1</td>\n",
       "      <td>3</td>\n",
       "      <td>0</td>\n",
       "      <td>3</td>\n",
       "      <td>0</td>\n",
       "      <td>1</td>\n",
       "      <td>!!!!! RT @mleew17: boy dats cold...tyga dwn ba...</td>\n",
       "    </tr>\n",
       "    <tr>\n",
       "      <th>2</th>\n",
       "      <td>2</td>\n",
       "      <td>3</td>\n",
       "      <td>0</td>\n",
       "      <td>3</td>\n",
       "      <td>0</td>\n",
       "      <td>1</td>\n",
       "      <td>!!!!!!! RT @UrKindOfBrand Dawg!!!! RT @80sbaby...</td>\n",
       "    </tr>\n",
       "    <tr>\n",
       "      <th>3</th>\n",
       "      <td>3</td>\n",
       "      <td>3</td>\n",
       "      <td>0</td>\n",
       "      <td>2</td>\n",
       "      <td>1</td>\n",
       "      <td>1</td>\n",
       "      <td>!!!!!!!!! RT @C_G_Anderson: @viva_based she lo...</td>\n",
       "    </tr>\n",
       "    <tr>\n",
       "      <th>4</th>\n",
       "      <td>4</td>\n",
       "      <td>6</td>\n",
       "      <td>0</td>\n",
       "      <td>6</td>\n",
       "      <td>0</td>\n",
       "      <td>1</td>\n",
       "      <td>!!!!!!!!!!!!! RT @ShenikaRoberts: The shit you...</td>\n",
       "    </tr>\n",
       "  </tbody>\n",
       "</table>\n",
       "</div>\n",
       "      <button class=\"colab-df-convert\" onclick=\"convertToInteractive('df-4a46fd25-bf57-49cd-aeee-5a999f1abbd8')\"\n",
       "              title=\"Convert this dataframe to an interactive table.\"\n",
       "              style=\"display:none;\">\n",
       "        \n",
       "  <svg xmlns=\"http://www.w3.org/2000/svg\" height=\"24px\"viewBox=\"0 0 24 24\"\n",
       "       width=\"24px\">\n",
       "    <path d=\"M0 0h24v24H0V0z\" fill=\"none\"/>\n",
       "    <path d=\"M18.56 5.44l.94 2.06.94-2.06 2.06-.94-2.06-.94-.94-2.06-.94 2.06-2.06.94zm-11 1L8.5 8.5l.94-2.06 2.06-.94-2.06-.94L8.5 2.5l-.94 2.06-2.06.94zm10 10l.94 2.06.94-2.06 2.06-.94-2.06-.94-.94-2.06-.94 2.06-2.06.94z\"/><path d=\"M17.41 7.96l-1.37-1.37c-.4-.4-.92-.59-1.43-.59-.52 0-1.04.2-1.43.59L10.3 9.45l-7.72 7.72c-.78.78-.78 2.05 0 2.83L4 21.41c.39.39.9.59 1.41.59.51 0 1.02-.2 1.41-.59l7.78-7.78 2.81-2.81c.8-.78.8-2.07 0-2.86zM5.41 20L4 18.59l7.72-7.72 1.47 1.35L5.41 20z\"/>\n",
       "  </svg>\n",
       "      </button>\n",
       "      \n",
       "  <style>\n",
       "    .colab-df-container {\n",
       "      display:flex;\n",
       "      flex-wrap:wrap;\n",
       "      gap: 12px;\n",
       "    }\n",
       "\n",
       "    .colab-df-convert {\n",
       "      background-color: #E8F0FE;\n",
       "      border: none;\n",
       "      border-radius: 50%;\n",
       "      cursor: pointer;\n",
       "      display: none;\n",
       "      fill: #1967D2;\n",
       "      height: 32px;\n",
       "      padding: 0 0 0 0;\n",
       "      width: 32px;\n",
       "    }\n",
       "\n",
       "    .colab-df-convert:hover {\n",
       "      background-color: #E2EBFA;\n",
       "      box-shadow: 0px 1px 2px rgba(60, 64, 67, 0.3), 0px 1px 3px 1px rgba(60, 64, 67, 0.15);\n",
       "      fill: #174EA6;\n",
       "    }\n",
       "\n",
       "    [theme=dark] .colab-df-convert {\n",
       "      background-color: #3B4455;\n",
       "      fill: #D2E3FC;\n",
       "    }\n",
       "\n",
       "    [theme=dark] .colab-df-convert:hover {\n",
       "      background-color: #434B5C;\n",
       "      box-shadow: 0px 1px 3px 1px rgba(0, 0, 0, 0.15);\n",
       "      filter: drop-shadow(0px 1px 2px rgba(0, 0, 0, 0.3));\n",
       "      fill: #FFFFFF;\n",
       "    }\n",
       "  </style>\n",
       "\n",
       "      <script>\n",
       "        const buttonEl =\n",
       "          document.querySelector('#df-4a46fd25-bf57-49cd-aeee-5a999f1abbd8 button.colab-df-convert');\n",
       "        buttonEl.style.display =\n",
       "          google.colab.kernel.accessAllowed ? 'block' : 'none';\n",
       "\n",
       "        async function convertToInteractive(key) {\n",
       "          const element = document.querySelector('#df-4a46fd25-bf57-49cd-aeee-5a999f1abbd8');\n",
       "          const dataTable =\n",
       "            await google.colab.kernel.invokeFunction('convertToInteractive',\n",
       "                                                     [key], {});\n",
       "          if (!dataTable) return;\n",
       "\n",
       "          const docLinkHtml = 'Like what you see? Visit the ' +\n",
       "            '<a target=\"_blank\" href=https://colab.research.google.com/notebooks/data_table.ipynb>data table notebook</a>'\n",
       "            + ' to learn more about interactive tables.';\n",
       "          element.innerHTML = '';\n",
       "          dataTable['output_type'] = 'display_data';\n",
       "          await google.colab.output.renderOutput(dataTable, element);\n",
       "          const docLink = document.createElement('div');\n",
       "          docLink.innerHTML = docLinkHtml;\n",
       "          element.appendChild(docLink);\n",
       "        }\n",
       "      </script>\n",
       "    </div>\n",
       "  </div>\n",
       "  "
      ],
      "text/plain": [
       "   Unnamed: 0  count  hate_speech  offensive_language  neither  class  \\\n",
       "0           0      3            0                   0        3      2   \n",
       "1           1      3            0                   3        0      1   \n",
       "2           2      3            0                   3        0      1   \n",
       "3           3      3            0                   2        1      1   \n",
       "4           4      6            0                   6        0      1   \n",
       "\n",
       "                                               tweet  \n",
       "0  !!! RT @mayasolovely: As a woman you shouldn't...  \n",
       "1  !!!!! RT @mleew17: boy dats cold...tyga dwn ba...  \n",
       "2  !!!!!!! RT @UrKindOfBrand Dawg!!!! RT @80sbaby...  \n",
       "3  !!!!!!!!! RT @C_G_Anderson: @viva_based she lo...  \n",
       "4  !!!!!!!!!!!!! RT @ShenikaRoberts: The shit you...  "
      ]
     },
     "execution_count": 28,
     "metadata": {},
     "output_type": "execute_result"
    }
   ],
   "source": [
    "df.head()"
   ]
  },
  {
   "cell_type": "markdown",
   "metadata": {
    "id": "JujAe9Ft-Z-9"
   },
   "source": [
    "We don't need first 4 columns"
   ]
  },
  {
   "cell_type": "code",
   "execution_count": 29,
   "metadata": {
    "colab": {
     "base_uri": "https://localhost:8080/",
     "height": 206
    },
    "executionInfo": {
     "elapsed": 11,
     "status": "ok",
     "timestamp": 1687945558540,
     "user": {
      "displayName": "Shehan DMG",
      "userId": "14911428634724278187"
     },
     "user_tz": -330
    },
    "id": "H2bDaSUX-eVs",
    "outputId": "6c96131d-3ae4-484e-9934-96a5f5207fa7"
   },
   "outputs": [
    {
     "data": {
      "text/html": [
       "\n",
       "  <div id=\"df-e1f1d01e-b3f7-42a1-9b96-31aafb56dca8\">\n",
       "    <div class=\"colab-df-container\">\n",
       "      <div>\n",
       "<style scoped>\n",
       "    .dataframe tbody tr th:only-of-type {\n",
       "        vertical-align: middle;\n",
       "    }\n",
       "\n",
       "    .dataframe tbody tr th {\n",
       "        vertical-align: top;\n",
       "    }\n",
       "\n",
       "    .dataframe thead th {\n",
       "        text-align: right;\n",
       "    }\n",
       "</style>\n",
       "<table border=\"1\" class=\"dataframe\">\n",
       "  <thead>\n",
       "    <tr style=\"text-align: right;\">\n",
       "      <th></th>\n",
       "      <th>class</th>\n",
       "      <th>tweet</th>\n",
       "    </tr>\n",
       "  </thead>\n",
       "  <tbody>\n",
       "    <tr>\n",
       "      <th>0</th>\n",
       "      <td>2</td>\n",
       "      <td>!!! RT @mayasolovely: As a woman you shouldn't...</td>\n",
       "    </tr>\n",
       "    <tr>\n",
       "      <th>1</th>\n",
       "      <td>1</td>\n",
       "      <td>!!!!! RT @mleew17: boy dats cold...tyga dwn ba...</td>\n",
       "    </tr>\n",
       "    <tr>\n",
       "      <th>2</th>\n",
       "      <td>1</td>\n",
       "      <td>!!!!!!! RT @UrKindOfBrand Dawg!!!! RT @80sbaby...</td>\n",
       "    </tr>\n",
       "    <tr>\n",
       "      <th>3</th>\n",
       "      <td>1</td>\n",
       "      <td>!!!!!!!!! RT @C_G_Anderson: @viva_based she lo...</td>\n",
       "    </tr>\n",
       "    <tr>\n",
       "      <th>4</th>\n",
       "      <td>1</td>\n",
       "      <td>!!!!!!!!!!!!! RT @ShenikaRoberts: The shit you...</td>\n",
       "    </tr>\n",
       "  </tbody>\n",
       "</table>\n",
       "</div>\n",
       "      <button class=\"colab-df-convert\" onclick=\"convertToInteractive('df-e1f1d01e-b3f7-42a1-9b96-31aafb56dca8')\"\n",
       "              title=\"Convert this dataframe to an interactive table.\"\n",
       "              style=\"display:none;\">\n",
       "        \n",
       "  <svg xmlns=\"http://www.w3.org/2000/svg\" height=\"24px\"viewBox=\"0 0 24 24\"\n",
       "       width=\"24px\">\n",
       "    <path d=\"M0 0h24v24H0V0z\" fill=\"none\"/>\n",
       "    <path d=\"M18.56 5.44l.94 2.06.94-2.06 2.06-.94-2.06-.94-.94-2.06-.94 2.06-2.06.94zm-11 1L8.5 8.5l.94-2.06 2.06-.94-2.06-.94L8.5 2.5l-.94 2.06-2.06.94zm10 10l.94 2.06.94-2.06 2.06-.94-2.06-.94-.94-2.06-.94 2.06-2.06.94z\"/><path d=\"M17.41 7.96l-1.37-1.37c-.4-.4-.92-.59-1.43-.59-.52 0-1.04.2-1.43.59L10.3 9.45l-7.72 7.72c-.78.78-.78 2.05 0 2.83L4 21.41c.39.39.9.59 1.41.59.51 0 1.02-.2 1.41-.59l7.78-7.78 2.81-2.81c.8-.78.8-2.07 0-2.86zM5.41 20L4 18.59l7.72-7.72 1.47 1.35L5.41 20z\"/>\n",
       "  </svg>\n",
       "      </button>\n",
       "      \n",
       "  <style>\n",
       "    .colab-df-container {\n",
       "      display:flex;\n",
       "      flex-wrap:wrap;\n",
       "      gap: 12px;\n",
       "    }\n",
       "\n",
       "    .colab-df-convert {\n",
       "      background-color: #E8F0FE;\n",
       "      border: none;\n",
       "      border-radius: 50%;\n",
       "      cursor: pointer;\n",
       "      display: none;\n",
       "      fill: #1967D2;\n",
       "      height: 32px;\n",
       "      padding: 0 0 0 0;\n",
       "      width: 32px;\n",
       "    }\n",
       "\n",
       "    .colab-df-convert:hover {\n",
       "      background-color: #E2EBFA;\n",
       "      box-shadow: 0px 1px 2px rgba(60, 64, 67, 0.3), 0px 1px 3px 1px rgba(60, 64, 67, 0.15);\n",
       "      fill: #174EA6;\n",
       "    }\n",
       "\n",
       "    [theme=dark] .colab-df-convert {\n",
       "      background-color: #3B4455;\n",
       "      fill: #D2E3FC;\n",
       "    }\n",
       "\n",
       "    [theme=dark] .colab-df-convert:hover {\n",
       "      background-color: #434B5C;\n",
       "      box-shadow: 0px 1px 3px 1px rgba(0, 0, 0, 0.15);\n",
       "      filter: drop-shadow(0px 1px 2px rgba(0, 0, 0, 0.3));\n",
       "      fill: #FFFFFF;\n",
       "    }\n",
       "  </style>\n",
       "\n",
       "      <script>\n",
       "        const buttonEl =\n",
       "          document.querySelector('#df-e1f1d01e-b3f7-42a1-9b96-31aafb56dca8 button.colab-df-convert');\n",
       "        buttonEl.style.display =\n",
       "          google.colab.kernel.accessAllowed ? 'block' : 'none';\n",
       "\n",
       "        async function convertToInteractive(key) {\n",
       "          const element = document.querySelector('#df-e1f1d01e-b3f7-42a1-9b96-31aafb56dca8');\n",
       "          const dataTable =\n",
       "            await google.colab.kernel.invokeFunction('convertToInteractive',\n",
       "                                                     [key], {});\n",
       "          if (!dataTable) return;\n",
       "\n",
       "          const docLinkHtml = 'Like what you see? Visit the ' +\n",
       "            '<a target=\"_blank\" href=https://colab.research.google.com/notebooks/data_table.ipynb>data table notebook</a>'\n",
       "            + ' to learn more about interactive tables.';\n",
       "          element.innerHTML = '';\n",
       "          dataTable['output_type'] = 'display_data';\n",
       "          await google.colab.output.renderOutput(dataTable, element);\n",
       "          const docLink = document.createElement('div');\n",
       "          docLink.innerHTML = docLinkHtml;\n",
       "          element.appendChild(docLink);\n",
       "        }\n",
       "      </script>\n",
       "    </div>\n",
       "  </div>\n",
       "  "
      ],
      "text/plain": [
       "   class                                              tweet\n",
       "0      2  !!! RT @mayasolovely: As a woman you shouldn't...\n",
       "1      1  !!!!! RT @mleew17: boy dats cold...tyga dwn ba...\n",
       "2      1  !!!!!!! RT @UrKindOfBrand Dawg!!!! RT @80sbaby...\n",
       "3      1  !!!!!!!!! RT @C_G_Anderson: @viva_based she lo...\n",
       "4      1  !!!!!!!!!!!!! RT @ShenikaRoberts: The shit you..."
      ]
     },
     "execution_count": 29,
     "metadata": {},
     "output_type": "execute_result"
    }
   ],
   "source": [
    "# drop first 5 columns. we don't need them\n",
    "df = df.drop(df.columns[:5], axis=1)\n",
    "\n",
    "df.head()"
   ]
  },
  {
   "cell_type": "code",
   "execution_count": 30,
   "metadata": {
    "executionInfo": {
     "elapsed": 9,
     "status": "ok",
     "timestamp": 1687945558540,
     "user": {
      "displayName": "Shehan DMG",
      "userId": "14911428634724278187"
     },
     "user_tz": -330
    },
    "id": "5guZY8iPHZfO"
   },
   "outputs": [],
   "source": [
    "feature_columns = ['hate_speech','offensive_language','ok']"
   ]
  },
  {
   "cell_type": "markdown",
   "metadata": {
    "id": "V0_ffQ-7GD3G"
   },
   "source": [
    "## Preprocessing\n",
    "\n",
    "Let's devide them into train,eval and test datasets.\n",
    "there's about 25k records.\n",
    "\n",
    "but before that we need to see few things."
   ]
  },
  {
   "cell_type": "code",
   "execution_count": 36,
   "metadata": {
    "colab": {
     "base_uri": "https://localhost:8080/"
    },
    "executionInfo": {
     "elapsed": 396,
     "status": "ok",
     "timestamp": 1687945623887,
     "user": {
      "displayName": "Shehan DMG",
      "userId": "14911428634724278187"
     },
     "user_tz": -330
    },
    "id": "M704foqHOCKN",
    "outputId": "8a54f6e6-a0b7-4cbf-e7f6-715136a1b545"
   },
   "outputs": [
    {
     "name": "stdout",
     "output_type": "stream",
     "text": [
      "There are 1430 hate speech records. and  19190 offensive records and 4163 are ok\n"
     ]
    }
   ],
   "source": [
    "dfc = df.copy()\n",
    "\n",
    "df_hate_speech = dfc[dfc['class']==0]\n",
    "df_offensive = dfc[dfc['class']==1]\n",
    "df_ok = dfc[dfc['class']==2]\n",
    "\n",
    "print(\"There are\",len(df_hate_speech), \"hate speech records.\",\"and \",len(df_offensive),\"offensive records\",\"and\",len(df_ok),\"are ok\")"
   ]
  },
  {
   "cell_type": "code",
   "execution_count": 37,
   "metadata": {
    "colab": {
     "base_uri": "https://localhost:8080/",
     "height": 677
    },
    "executionInfo": {
     "elapsed": 5,
     "status": "ok",
     "timestamp": 1687945625609,
     "user": {
      "displayName": "Shehan DMG",
      "userId": "14911428634724278187"
     },
     "user_tz": -330
    },
    "id": "NyUhs1xUZUpE",
    "outputId": "ef0813bb-ee45-446d-e4c3-decddf155168"
   },
   "outputs": [
    {
     "data": {
      "text/html": [
       "\n",
       "  <div id=\"df-ec376636-143f-4071-bf3d-7bb8d104fcfc\">\n",
       "    <div class=\"colab-df-container\">\n",
       "      <div>\n",
       "<style scoped>\n",
       "    .dataframe tbody tr th:only-of-type {\n",
       "        vertical-align: middle;\n",
       "    }\n",
       "\n",
       "    .dataframe tbody tr th {\n",
       "        vertical-align: top;\n",
       "    }\n",
       "\n",
       "    .dataframe thead th {\n",
       "        text-align: right;\n",
       "    }\n",
       "</style>\n",
       "<table border=\"1\" class=\"dataframe\">\n",
       "  <thead>\n",
       "    <tr style=\"text-align: right;\">\n",
       "      <th></th>\n",
       "      <th>class</th>\n",
       "      <th>tweet</th>\n",
       "    </tr>\n",
       "  </thead>\n",
       "  <tbody>\n",
       "    <tr>\n",
       "      <th>0</th>\n",
       "      <td>2</td>\n",
       "      <td>!!! RT @mayasolovely: As a woman you shouldn't...</td>\n",
       "    </tr>\n",
       "    <tr>\n",
       "      <th>40</th>\n",
       "      <td>2</td>\n",
       "      <td>\" momma said no pussy cats inside my doghouse \"</td>\n",
       "    </tr>\n",
       "    <tr>\n",
       "      <th>63</th>\n",
       "      <td>2</td>\n",
       "      <td>\"@Addicted2Guys: -SimplyAddictedToGuys http://...</td>\n",
       "    </tr>\n",
       "    <tr>\n",
       "      <th>66</th>\n",
       "      <td>2</td>\n",
       "      <td>\"@AllAboutManFeet: http://t.co/3gzUpfuMev\" woo...</td>\n",
       "    </tr>\n",
       "    <tr>\n",
       "      <th>67</th>\n",
       "      <td>2</td>\n",
       "      <td>\"@Allyhaaaaa: Lemmie eat a Oreo &amp;amp; do these...</td>\n",
       "    </tr>\n",
       "    <tr>\n",
       "      <th>70</th>\n",
       "      <td>2</td>\n",
       "      <td>\"@ArizonasFinest6: Why the eggplant emoji doe?...</td>\n",
       "    </tr>\n",
       "    <tr>\n",
       "      <th>75</th>\n",
       "      <td>2</td>\n",
       "      <td>\"@BabyAnimalPics: baby monkey bathtime http://...</td>\n",
       "    </tr>\n",
       "    <tr>\n",
       "      <th>115</th>\n",
       "      <td>2</td>\n",
       "      <td>\"@DomWorldPeace: Baseball season for the win. ...</td>\n",
       "    </tr>\n",
       "    <tr>\n",
       "      <th>118</th>\n",
       "      <td>2</td>\n",
       "      <td>\"@DunderbaIl: I'm an early bird and I'm a nigh...</td>\n",
       "    </tr>\n",
       "    <tr>\n",
       "      <th>119</th>\n",
       "      <td>2</td>\n",
       "      <td>\"@EdgarPixar: Overdosing on heavy drugs doesn'...</td>\n",
       "    </tr>\n",
       "    <tr>\n",
       "      <th>120</th>\n",
       "      <td>2</td>\n",
       "      <td>\"@El_Grillo1: Pit Bulls Photographed As Lovely...</td>\n",
       "    </tr>\n",
       "    <tr>\n",
       "      <th>122</th>\n",
       "      <td>2</td>\n",
       "      <td>\"@FloKid88: As long as the Lakers trash from n...</td>\n",
       "    </tr>\n",
       "    <tr>\n",
       "      <th>124</th>\n",
       "      <td>2</td>\n",
       "      <td>\"@FunnyPicsDepot: this the \"I play soccer, che...</td>\n",
       "    </tr>\n",
       "    <tr>\n",
       "      <th>140</th>\n",
       "      <td>2</td>\n",
       "      <td>\"@HermosaAlma: This isn't ghetto.....it's smar...</td>\n",
       "    </tr>\n",
       "    <tr>\n",
       "      <th>149</th>\n",
       "      <td>2</td>\n",
       "      <td>\"@JReebo: Who wants to get there nose in these...</td>\n",
       "    </tr>\n",
       "    <tr>\n",
       "      <th>158</th>\n",
       "      <td>2</td>\n",
       "      <td>\"@KeyshawnSwag: Peel up peel up bring it back ...</td>\n",
       "    </tr>\n",
       "    <tr>\n",
       "      <th>164</th>\n",
       "      <td>2</td>\n",
       "      <td>\"@KnightfanNeal #UCFPINKPARTY come on stay ali...</td>\n",
       "    </tr>\n",
       "    <tr>\n",
       "      <th>180</th>\n",
       "      <td>2</td>\n",
       "      <td>\"@MLBNetwork: Stay tuned to @MLBNetwork for an...</td>\n",
       "    </tr>\n",
       "    <tr>\n",
       "      <th>181</th>\n",
       "      <td>2</td>\n",
       "      <td>\"@M_Rad: &amp;#8220;@DezDLT: \"I play soccer, cheat...</td>\n",
       "    </tr>\n",
       "    <tr>\n",
       "      <th>186</th>\n",
       "      <td>2</td>\n",
       "      <td>\"@MaxMayo77: http://t.co/3Jk4kR44X3\" a pissed ...</td>\n",
       "    </tr>\n",
       "  </tbody>\n",
       "</table>\n",
       "</div>\n",
       "      <button class=\"colab-df-convert\" onclick=\"convertToInteractive('df-ec376636-143f-4071-bf3d-7bb8d104fcfc')\"\n",
       "              title=\"Convert this dataframe to an interactive table.\"\n",
       "              style=\"display:none;\">\n",
       "        \n",
       "  <svg xmlns=\"http://www.w3.org/2000/svg\" height=\"24px\"viewBox=\"0 0 24 24\"\n",
       "       width=\"24px\">\n",
       "    <path d=\"M0 0h24v24H0V0z\" fill=\"none\"/>\n",
       "    <path d=\"M18.56 5.44l.94 2.06.94-2.06 2.06-.94-2.06-.94-.94-2.06-.94 2.06-2.06.94zm-11 1L8.5 8.5l.94-2.06 2.06-.94-2.06-.94L8.5 2.5l-.94 2.06-2.06.94zm10 10l.94 2.06.94-2.06 2.06-.94-2.06-.94-.94-2.06-.94 2.06-2.06.94z\"/><path d=\"M17.41 7.96l-1.37-1.37c-.4-.4-.92-.59-1.43-.59-.52 0-1.04.2-1.43.59L10.3 9.45l-7.72 7.72c-.78.78-.78 2.05 0 2.83L4 21.41c.39.39.9.59 1.41.59.51 0 1.02-.2 1.41-.59l7.78-7.78 2.81-2.81c.8-.78.8-2.07 0-2.86zM5.41 20L4 18.59l7.72-7.72 1.47 1.35L5.41 20z\"/>\n",
       "  </svg>\n",
       "      </button>\n",
       "      \n",
       "  <style>\n",
       "    .colab-df-container {\n",
       "      display:flex;\n",
       "      flex-wrap:wrap;\n",
       "      gap: 12px;\n",
       "    }\n",
       "\n",
       "    .colab-df-convert {\n",
       "      background-color: #E8F0FE;\n",
       "      border: none;\n",
       "      border-radius: 50%;\n",
       "      cursor: pointer;\n",
       "      display: none;\n",
       "      fill: #1967D2;\n",
       "      height: 32px;\n",
       "      padding: 0 0 0 0;\n",
       "      width: 32px;\n",
       "    }\n",
       "\n",
       "    .colab-df-convert:hover {\n",
       "      background-color: #E2EBFA;\n",
       "      box-shadow: 0px 1px 2px rgba(60, 64, 67, 0.3), 0px 1px 3px 1px rgba(60, 64, 67, 0.15);\n",
       "      fill: #174EA6;\n",
       "    }\n",
       "\n",
       "    [theme=dark] .colab-df-convert {\n",
       "      background-color: #3B4455;\n",
       "      fill: #D2E3FC;\n",
       "    }\n",
       "\n",
       "    [theme=dark] .colab-df-convert:hover {\n",
       "      background-color: #434B5C;\n",
       "      box-shadow: 0px 1px 3px 1px rgba(0, 0, 0, 0.15);\n",
       "      filter: drop-shadow(0px 1px 2px rgba(0, 0, 0, 0.3));\n",
       "      fill: #FFFFFF;\n",
       "    }\n",
       "  </style>\n",
       "\n",
       "      <script>\n",
       "        const buttonEl =\n",
       "          document.querySelector('#df-ec376636-143f-4071-bf3d-7bb8d104fcfc button.colab-df-convert');\n",
       "        buttonEl.style.display =\n",
       "          google.colab.kernel.accessAllowed ? 'block' : 'none';\n",
       "\n",
       "        async function convertToInteractive(key) {\n",
       "          const element = document.querySelector('#df-ec376636-143f-4071-bf3d-7bb8d104fcfc');\n",
       "          const dataTable =\n",
       "            await google.colab.kernel.invokeFunction('convertToInteractive',\n",
       "                                                     [key], {});\n",
       "          if (!dataTable) return;\n",
       "\n",
       "          const docLinkHtml = 'Like what you see? Visit the ' +\n",
       "            '<a target=\"_blank\" href=https://colab.research.google.com/notebooks/data_table.ipynb>data table notebook</a>'\n",
       "            + ' to learn more about interactive tables.';\n",
       "          element.innerHTML = '';\n",
       "          dataTable['output_type'] = 'display_data';\n",
       "          await google.colab.output.renderOutput(dataTable, element);\n",
       "          const docLink = document.createElement('div');\n",
       "          docLink.innerHTML = docLinkHtml;\n",
       "          element.appendChild(docLink);\n",
       "        }\n",
       "      </script>\n",
       "    </div>\n",
       "  </div>\n",
       "  "
      ],
      "text/plain": [
       "     class                                              tweet\n",
       "0        2  !!! RT @mayasolovely: As a woman you shouldn't...\n",
       "40       2    \" momma said no pussy cats inside my doghouse \"\n",
       "63       2  \"@Addicted2Guys: -SimplyAddictedToGuys http://...\n",
       "66       2  \"@AllAboutManFeet: http://t.co/3gzUpfuMev\" woo...\n",
       "67       2  \"@Allyhaaaaa: Lemmie eat a Oreo &amp; do these...\n",
       "70       2  \"@ArizonasFinest6: Why the eggplant emoji doe?...\n",
       "75       2  \"@BabyAnimalPics: baby monkey bathtime http://...\n",
       "115      2  \"@DomWorldPeace: Baseball season for the win. ...\n",
       "118      2  \"@DunderbaIl: I'm an early bird and I'm a nigh...\n",
       "119      2  \"@EdgarPixar: Overdosing on heavy drugs doesn'...\n",
       "120      2  \"@El_Grillo1: Pit Bulls Photographed As Lovely...\n",
       "122      2  \"@FloKid88: As long as the Lakers trash from n...\n",
       "124      2  \"@FunnyPicsDepot: this the \"I play soccer, che...\n",
       "140      2  \"@HermosaAlma: This isn't ghetto.....it's smar...\n",
       "149      2  \"@JReebo: Who wants to get there nose in these...\n",
       "158      2  \"@KeyshawnSwag: Peel up peel up bring it back ...\n",
       "164      2  \"@KnightfanNeal #UCFPINKPARTY come on stay ali...\n",
       "180      2  \"@MLBNetwork: Stay tuned to @MLBNetwork for an...\n",
       "181      2  \"@M_Rad: &#8220;@DezDLT: \"I play soccer, cheat...\n",
       "186      2  \"@MaxMayo77: http://t.co/3Jk4kR44X3\" a pissed ..."
      ]
     },
     "execution_count": 37,
     "metadata": {},
     "output_type": "execute_result"
    }
   ],
   "source": [
    "df_ok.head(20)"
   ]
  },
  {
   "cell_type": "markdown",
   "metadata": {
    "id": "tH1ByEa1PVB-"
   },
   "source": [
    "There are 1430 hate speech records. and  19190 offensive records and 4163 are ok. Let's get the ratio"
   ]
  },
  {
   "cell_type": "code",
   "execution_count": 38,
   "metadata": {
    "colab": {
     "base_uri": "https://localhost:8080/"
    },
    "executionInfo": {
     "elapsed": 2,
     "status": "ok",
     "timestamp": 1687945628782,
     "user": {
      "displayName": "Shehan DMG",
      "userId": "14911428634724278187"
     },
     "user_tz": -330
    },
    "id": "NMi2_N_FPrTc",
    "outputId": "001474e1-aa4c-4d0c-e0fc-c76a0a9fd25a"
   },
   "outputs": [
    {
     "name": "stdout",
     "output_type": "stream",
     "text": [
      "ratio to hate speech:offensive records:ok are  1.0 : 13.41958041958042 : 2.9111888111888113\n"
     ]
    }
   ],
   "source": [
    "print(\"ratio to hate speech:offensive records:ok are \",len(df_hate_speech)/1430,\":\",len(df_offensive)/1430,\":\",len(df_ok)/1430)"
   ]
  },
  {
   "cell_type": "markdown",
   "metadata": {
    "id": "bCK_l9ZpQK8c"
   },
   "source": [
    "ratio to hate speech:offensive records:ok are  1.0 : 13.4 : 2.9\n",
    "\n",
    "comparing to other records there are too many records are in offensive category. If we don't trim this ratio it will cause our predictive model to have a tendency to predict ok or hate speech tweets as offensive.\n",
    "\n",
    "I will remove 1/2 of them that will trim it down to 9595.\n",
    "total records will be trimmed down to 15185."
   ]
  },
  {
   "cell_type": "code",
   "execution_count": 39,
   "metadata": {
    "colab": {
     "base_uri": "https://localhost:8080/"
    },
    "executionInfo": {
     "elapsed": 2,
     "status": "ok",
     "timestamp": 1687945630594,
     "user": {
      "displayName": "Shehan DMG",
      "userId": "14911428634724278187"
     },
     "user_tz": -330
    },
    "id": "2wdhmGeUUi3N",
    "outputId": "ee3c97fc-19ae-42bf-8a77-bb00d01f25ea"
   },
   "outputs": [
    {
     "data": {
      "text/plain": [
       "9595"
      ]
     },
     "execution_count": 39,
     "metadata": {},
     "output_type": "execute_result"
    }
   ],
   "source": [
    "df_offensive = df_offensive[5000:14595]\n",
    "len(df_offensive)"
   ]
  },
  {
   "cell_type": "code",
   "execution_count": 43,
   "metadata": {
    "colab": {
     "base_uri": "https://localhost:8080/",
     "height": 206
    },
    "executionInfo": {
     "elapsed": 5,
     "status": "ok",
     "timestamp": 1687945679143,
     "user": {
      "displayName": "Shehan DMG",
      "userId": "14911428634724278187"
     },
     "user_tz": -330
    },
    "id": "Adg4_KEiZNDk",
    "outputId": "5f98ee8d-0b4b-4534-cf8a-da822511ad12"
   },
   "outputs": [
    {
     "data": {
      "text/html": [
       "\n",
       "  <div id=\"df-1511ecf2-3b8c-4da7-8f8f-75ee1113d37b\">\n",
       "    <div class=\"colab-df-container\">\n",
       "      <div>\n",
       "<style scoped>\n",
       "    .dataframe tbody tr th:only-of-type {\n",
       "        vertical-align: middle;\n",
       "    }\n",
       "\n",
       "    .dataframe tbody tr th {\n",
       "        vertical-align: top;\n",
       "    }\n",
       "\n",
       "    .dataframe thead th {\n",
       "        text-align: right;\n",
       "    }\n",
       "</style>\n",
       "<table border=\"1\" class=\"dataframe\">\n",
       "  <thead>\n",
       "    <tr style=\"text-align: right;\">\n",
       "      <th></th>\n",
       "      <th>class</th>\n",
       "      <th>tweet</th>\n",
       "    </tr>\n",
       "  </thead>\n",
       "  <tbody>\n",
       "    <tr>\n",
       "      <th>6725</th>\n",
       "      <td>1</td>\n",
       "      <td>@morganwelborn you're a bitch</td>\n",
       "    </tr>\n",
       "    <tr>\n",
       "      <th>6726</th>\n",
       "      <td>1</td>\n",
       "      <td>@moyizzy naw negro</td>\n",
       "    </tr>\n",
       "    <tr>\n",
       "      <th>6728</th>\n",
       "      <td>1</td>\n",
       "      <td>@mrfoolycooly @DM___3 faggot alert</td>\n",
       "    </tr>\n",
       "    <tr>\n",
       "      <th>6729</th>\n",
       "      <td>1</td>\n",
       "      <td>@mrfoolycooly bitch ass scaring me! Lol you do...</td>\n",
       "    </tr>\n",
       "    <tr>\n",
       "      <th>6731</th>\n",
       "      <td>1</td>\n",
       "      <td>@mrfoolycooly im still where that giant muk sh...</td>\n",
       "    </tr>\n",
       "  </tbody>\n",
       "</table>\n",
       "</div>\n",
       "      <button class=\"colab-df-convert\" onclick=\"convertToInteractive('df-1511ecf2-3b8c-4da7-8f8f-75ee1113d37b')\"\n",
       "              title=\"Convert this dataframe to an interactive table.\"\n",
       "              style=\"display:none;\">\n",
       "        \n",
       "  <svg xmlns=\"http://www.w3.org/2000/svg\" height=\"24px\"viewBox=\"0 0 24 24\"\n",
       "       width=\"24px\">\n",
       "    <path d=\"M0 0h24v24H0V0z\" fill=\"none\"/>\n",
       "    <path d=\"M18.56 5.44l.94 2.06.94-2.06 2.06-.94-2.06-.94-.94-2.06-.94 2.06-2.06.94zm-11 1L8.5 8.5l.94-2.06 2.06-.94-2.06-.94L8.5 2.5l-.94 2.06-2.06.94zm10 10l.94 2.06.94-2.06 2.06-.94-2.06-.94-.94-2.06-.94 2.06-2.06.94z\"/><path d=\"M17.41 7.96l-1.37-1.37c-.4-.4-.92-.59-1.43-.59-.52 0-1.04.2-1.43.59L10.3 9.45l-7.72 7.72c-.78.78-.78 2.05 0 2.83L4 21.41c.39.39.9.59 1.41.59.51 0 1.02-.2 1.41-.59l7.78-7.78 2.81-2.81c.8-.78.8-2.07 0-2.86zM5.41 20L4 18.59l7.72-7.72 1.47 1.35L5.41 20z\"/>\n",
       "  </svg>\n",
       "      </button>\n",
       "      \n",
       "  <style>\n",
       "    .colab-df-container {\n",
       "      display:flex;\n",
       "      flex-wrap:wrap;\n",
       "      gap: 12px;\n",
       "    }\n",
       "\n",
       "    .colab-df-convert {\n",
       "      background-color: #E8F0FE;\n",
       "      border: none;\n",
       "      border-radius: 50%;\n",
       "      cursor: pointer;\n",
       "      display: none;\n",
       "      fill: #1967D2;\n",
       "      height: 32px;\n",
       "      padding: 0 0 0 0;\n",
       "      width: 32px;\n",
       "    }\n",
       "\n",
       "    .colab-df-convert:hover {\n",
       "      background-color: #E2EBFA;\n",
       "      box-shadow: 0px 1px 2px rgba(60, 64, 67, 0.3), 0px 1px 3px 1px rgba(60, 64, 67, 0.15);\n",
       "      fill: #174EA6;\n",
       "    }\n",
       "\n",
       "    [theme=dark] .colab-df-convert {\n",
       "      background-color: #3B4455;\n",
       "      fill: #D2E3FC;\n",
       "    }\n",
       "\n",
       "    [theme=dark] .colab-df-convert:hover {\n",
       "      background-color: #434B5C;\n",
       "      box-shadow: 0px 1px 3px 1px rgba(0, 0, 0, 0.15);\n",
       "      filter: drop-shadow(0px 1px 2px rgba(0, 0, 0, 0.3));\n",
       "      fill: #FFFFFF;\n",
       "    }\n",
       "  </style>\n",
       "\n",
       "      <script>\n",
       "        const buttonEl =\n",
       "          document.querySelector('#df-1511ecf2-3b8c-4da7-8f8f-75ee1113d37b button.colab-df-convert');\n",
       "        buttonEl.style.display =\n",
       "          google.colab.kernel.accessAllowed ? 'block' : 'none';\n",
       "\n",
       "        async function convertToInteractive(key) {\n",
       "          const element = document.querySelector('#df-1511ecf2-3b8c-4da7-8f8f-75ee1113d37b');\n",
       "          const dataTable =\n",
       "            await google.colab.kernel.invokeFunction('convertToInteractive',\n",
       "                                                     [key], {});\n",
       "          if (!dataTable) return;\n",
       "\n",
       "          const docLinkHtml = 'Like what you see? Visit the ' +\n",
       "            '<a target=\"_blank\" href=https://colab.research.google.com/notebooks/data_table.ipynb>data table notebook</a>'\n",
       "            + ' to learn more about interactive tables.';\n",
       "          element.innerHTML = '';\n",
       "          dataTable['output_type'] = 'display_data';\n",
       "          await google.colab.output.renderOutput(dataTable, element);\n",
       "          const docLink = document.createElement('div');\n",
       "          docLink.innerHTML = docLinkHtml;\n",
       "          element.appendChild(docLink);\n",
       "        }\n",
       "      </script>\n",
       "    </div>\n",
       "  </div>\n",
       "  "
      ],
      "text/plain": [
       "      class                                              tweet\n",
       "6725      1                      @morganwelborn you're a bitch\n",
       "6726      1                                 @moyizzy naw negro\n",
       "6728      1                 @mrfoolycooly @DM___3 faggot alert\n",
       "6729      1  @mrfoolycooly bitch ass scaring me! Lol you do...\n",
       "6731      1  @mrfoolycooly im still where that giant muk sh..."
      ]
     },
     "execution_count": 43,
     "metadata": {},
     "output_type": "execute_result"
    }
   ],
   "source": [
    "df_offensive.head()"
   ]
  },
  {
   "cell_type": "code",
   "execution_count": 51,
   "metadata": {
    "colab": {
     "base_uri": "https://localhost:8080/",
     "height": 206
    },
    "executionInfo": {
     "elapsed": 4,
     "status": "ok",
     "timestamp": 1687945848098,
     "user": {
      "displayName": "Shehan DMG",
      "userId": "14911428634724278187"
     },
     "user_tz": -330
    },
    "id": "eYSGb-PLVHsk",
    "outputId": "01b291f0-e791-4af4-d7e8-d9d6350acae0"
   },
   "outputs": [
    {
     "data": {
      "text/html": [
       "\n",
       "  <div id=\"df-a6370dc2-a14c-45cb-b9f1-29ffd824fc42\">\n",
       "    <div class=\"colab-df-container\">\n",
       "      <div>\n",
       "<style scoped>\n",
       "    .dataframe tbody tr th:only-of-type {\n",
       "        vertical-align: middle;\n",
       "    }\n",
       "\n",
       "    .dataframe tbody tr th {\n",
       "        vertical-align: top;\n",
       "    }\n",
       "\n",
       "    .dataframe thead th {\n",
       "        text-align: right;\n",
       "    }\n",
       "</style>\n",
       "<table border=\"1\" class=\"dataframe\">\n",
       "  <thead>\n",
       "    <tr style=\"text-align: right;\">\n",
       "      <th></th>\n",
       "      <th>class</th>\n",
       "      <th>tweet</th>\n",
       "    </tr>\n",
       "  </thead>\n",
       "  <tbody>\n",
       "    <tr>\n",
       "      <th>0</th>\n",
       "      <td>2</td>\n",
       "      <td>Libs trash Saira Blair, an 18-year-old Republi...</td>\n",
       "    </tr>\n",
       "    <tr>\n",
       "      <th>1</th>\n",
       "      <td>1</td>\n",
       "      <td>I couldn't have no \"mama Joyce\" at my wedding....</td>\n",
       "    </tr>\n",
       "    <tr>\n",
       "      <th>2</th>\n",
       "      <td>2</td>\n",
       "      <td>&amp;#8220;@__Bino: Looking at nip rings I can't w...</td>\n",
       "    </tr>\n",
       "    <tr>\n",
       "      <th>3</th>\n",
       "      <td>1</td>\n",
       "      <td>Crazy bitch - Buckcherry &amp;#128076;</td>\n",
       "    </tr>\n",
       "    <tr>\n",
       "      <th>4</th>\n",
       "      <td>1</td>\n",
       "      <td>Its bros ova hoes but wifey comes before ya bros</td>\n",
       "    </tr>\n",
       "  </tbody>\n",
       "</table>\n",
       "</div>\n",
       "      <button class=\"colab-df-convert\" onclick=\"convertToInteractive('df-a6370dc2-a14c-45cb-b9f1-29ffd824fc42')\"\n",
       "              title=\"Convert this dataframe to an interactive table.\"\n",
       "              style=\"display:none;\">\n",
       "        \n",
       "  <svg xmlns=\"http://www.w3.org/2000/svg\" height=\"24px\"viewBox=\"0 0 24 24\"\n",
       "       width=\"24px\">\n",
       "    <path d=\"M0 0h24v24H0V0z\" fill=\"none\"/>\n",
       "    <path d=\"M18.56 5.44l.94 2.06.94-2.06 2.06-.94-2.06-.94-.94-2.06-.94 2.06-2.06.94zm-11 1L8.5 8.5l.94-2.06 2.06-.94-2.06-.94L8.5 2.5l-.94 2.06-2.06.94zm10 10l.94 2.06.94-2.06 2.06-.94-2.06-.94-.94-2.06-.94 2.06-2.06.94z\"/><path d=\"M17.41 7.96l-1.37-1.37c-.4-.4-.92-.59-1.43-.59-.52 0-1.04.2-1.43.59L10.3 9.45l-7.72 7.72c-.78.78-.78 2.05 0 2.83L4 21.41c.39.39.9.59 1.41.59.51 0 1.02-.2 1.41-.59l7.78-7.78 2.81-2.81c.8-.78.8-2.07 0-2.86zM5.41 20L4 18.59l7.72-7.72 1.47 1.35L5.41 20z\"/>\n",
       "  </svg>\n",
       "      </button>\n",
       "      \n",
       "  <style>\n",
       "    .colab-df-container {\n",
       "      display:flex;\n",
       "      flex-wrap:wrap;\n",
       "      gap: 12px;\n",
       "    }\n",
       "\n",
       "    .colab-df-convert {\n",
       "      background-color: #E8F0FE;\n",
       "      border: none;\n",
       "      border-radius: 50%;\n",
       "      cursor: pointer;\n",
       "      display: none;\n",
       "      fill: #1967D2;\n",
       "      height: 32px;\n",
       "      padding: 0 0 0 0;\n",
       "      width: 32px;\n",
       "    }\n",
       "\n",
       "    .colab-df-convert:hover {\n",
       "      background-color: #E2EBFA;\n",
       "      box-shadow: 0px 1px 2px rgba(60, 64, 67, 0.3), 0px 1px 3px 1px rgba(60, 64, 67, 0.15);\n",
       "      fill: #174EA6;\n",
       "    }\n",
       "\n",
       "    [theme=dark] .colab-df-convert {\n",
       "      background-color: #3B4455;\n",
       "      fill: #D2E3FC;\n",
       "    }\n",
       "\n",
       "    [theme=dark] .colab-df-convert:hover {\n",
       "      background-color: #434B5C;\n",
       "      box-shadow: 0px 1px 3px 1px rgba(0, 0, 0, 0.15);\n",
       "      filter: drop-shadow(0px 1px 2px rgba(0, 0, 0, 0.3));\n",
       "      fill: #FFFFFF;\n",
       "    }\n",
       "  </style>\n",
       "\n",
       "      <script>\n",
       "        const buttonEl =\n",
       "          document.querySelector('#df-a6370dc2-a14c-45cb-b9f1-29ffd824fc42 button.colab-df-convert');\n",
       "        buttonEl.style.display =\n",
       "          google.colab.kernel.accessAllowed ? 'block' : 'none';\n",
       "\n",
       "        async function convertToInteractive(key) {\n",
       "          const element = document.querySelector('#df-a6370dc2-a14c-45cb-b9f1-29ffd824fc42');\n",
       "          const dataTable =\n",
       "            await google.colab.kernel.invokeFunction('convertToInteractive',\n",
       "                                                     [key], {});\n",
       "          if (!dataTable) return;\n",
       "\n",
       "          const docLinkHtml = 'Like what you see? Visit the ' +\n",
       "            '<a target=\"_blank\" href=https://colab.research.google.com/notebooks/data_table.ipynb>data table notebook</a>'\n",
       "            + ' to learn more about interactive tables.';\n",
       "          element.innerHTML = '';\n",
       "          dataTable['output_type'] = 'display_data';\n",
       "          await google.colab.output.renderOutput(dataTable, element);\n",
       "          const docLink = document.createElement('div');\n",
       "          docLink.innerHTML = docLinkHtml;\n",
       "          element.appendChild(docLink);\n",
       "        }\n",
       "      </script>\n",
       "    </div>\n",
       "  </div>\n",
       "  "
      ],
      "text/plain": [
       "   class                                              tweet\n",
       "0      2  Libs trash Saira Blair, an 18-year-old Republi...\n",
       "1      1  I couldn't have no \"mama Joyce\" at my wedding....\n",
       "2      2  &#8220;@__Bino: Looking at nip rings I can't w...\n",
       "3      1                 Crazy bitch - Buckcherry &#128076;\n",
       "4      1   Its bros ova hoes but wifey comes before ya bros"
      ]
     },
     "execution_count": 51,
     "metadata": {},
     "output_type": "execute_result"
    }
   ],
   "source": [
    "# merge dataframes\n",
    "dfc = pd.concat([df_hate_speech,df_offensive,df_ok], axis=0)\n",
    "\n",
    "# shuffle the dataframe\n",
    "dfc = dfc.sample(frac=1, random_state=42).reset_index(drop=True)\n",
    "dfc.head()"
   ]
  },
  {
   "cell_type": "code",
   "execution_count": 52,
   "metadata": {
    "colab": {
     "base_uri": "https://localhost:8080/"
    },
    "executionInfo": {
     "elapsed": 3,
     "status": "ok",
     "timestamp": 1687945851861,
     "user": {
      "displayName": "Shehan DMG",
      "userId": "14911428634724278187"
     },
     "user_tz": -330
    },
    "id": "L4WIB-8TXyfU",
    "outputId": "26f48334-58eb-4de3-a735-883e149eb467"
   },
   "outputs": [
    {
     "data": {
      "text/plain": [
       "(15188, 2)"
      ]
     },
     "execution_count": 52,
     "metadata": {},
     "output_type": "execute_result"
    }
   ],
   "source": [
    "dfc.shape"
   ]
  },
  {
   "cell_type": "markdown",
   "metadata": {
    "id": "nssGDIOvYArm"
   },
   "source": [
    "We got 15188 records."
   ]
  },
  {
   "cell_type": "code",
   "execution_count": 224,
   "metadata": {
    "colab": {
     "base_uri": "https://localhost:8080/"
    },
    "executionInfo": {
     "elapsed": 2,
     "status": "ok",
     "timestamp": 1687955668870,
     "user": {
      "displayName": "Shehan DMG",
      "userId": "14911428634724278187"
     },
     "user_tz": -330
    },
    "id": "5TIyyu_2GIN_",
    "outputId": "7e6f3622-2b94-409a-aedf-0a6a5bb1cc59"
   },
   "outputs": [
    {
     "name": "stdout",
     "output_type": "stream",
     "text": [
      "(12150, 1)\n",
      "(2886, 1)\n",
      "(152, 1)\n"
     ]
    }
   ],
   "source": [
    "df = dfc.copy()\n",
    "num_of_rows = len(df.index)\n",
    "p80 = round(num_of_rows * 0.8)\n",
    "p99 = round(num_of_rows * 0.99)\n",
    "\n",
    "train_features = df[0:p80]\n",
    "eval_features = df[p80:p99]\n",
    "test_features = df[p99:]\n",
    "\n",
    "train_labels = train_features.pop('class')\n",
    "eval_labels = eval_features.pop('class')\n",
    "test_labels = test_features.pop('class')\n",
    "print(train_features.shape)\n",
    "print(eval_features.shape)\n",
    "print(test_features.shape)"
   ]
  },
  {
   "cell_type": "markdown",
   "metadata": {
    "id": "kCVn5VC2Cv2e"
   },
   "source": [
    "(12150, 1)\n",
    "\n",
    "(2886, 1)\n",
    "\n",
    "(152, 1)"
   ]
  },
  {
   "cell_type": "code",
   "execution_count": 225,
   "metadata": {
    "colab": {
     "base_uri": "https://localhost:8080/"
    },
    "executionInfo": {
     "elapsed": 441,
     "status": "ok",
     "timestamp": 1687955678330,
     "user": {
      "displayName": "Shehan DMG",
      "userId": "14911428634724278187"
     },
     "user_tz": -330
    },
    "id": "vUI4quAN_gcM",
    "outputId": "dc2a89f4-71b9-4a61-8dc0-4ee78f7f18a9"
   },
   "outputs": [
    {
     "data": {
      "text/plain": [
       "0    2\n",
       "1    1\n",
       "2    2\n",
       "3    1\n",
       "4    1\n",
       "Name: class, dtype: int64"
      ]
     },
     "execution_count": 225,
     "metadata": {},
     "output_type": "execute_result"
    }
   ],
   "source": [
    "train_labels.head()"
   ]
  },
  {
   "cell_type": "markdown",
   "metadata": {
    "id": "6WsbSTh2C-89"
   },
   "source": [
    "## Encoding words\n",
    "\n",
    "one_hot_encoding, max length, vocab size"
   ]
  },
  {
   "cell_type": "code",
   "execution_count": 226,
   "metadata": {
    "colab": {
     "base_uri": "https://localhost:8080/"
    },
    "executionInfo": {
     "elapsed": 452,
     "status": "ok",
     "timestamp": 1687955683454,
     "user": {
      "displayName": "Shehan DMG",
      "userId": "14911428634724278187"
     },
     "user_tz": -330
    },
    "id": "4ijzs7-stPQ3",
    "outputId": "f0ffd448-0454-480e-c054-334ac2079868"
   },
   "outputs": [
    {
     "data": {
      "text/plain": [
       "23731"
      ]
     },
     "execution_count": 226,
     "metadata": {},
     "output_type": "execute_result"
    }
   ],
   "source": [
    "padding_type = 'pre'\n",
    "max_len = 60\n",
    "trun_type='post'\n",
    "oov_token = '<oov>'\n",
    "\n",
    "tokenizer = Tokenizer(oov_token=oov_token)\n",
    "tokenizer.fit_on_texts(train_features['tweet'])\n",
    "\n",
    "vocab_size = len(tokenizer.word_index) + 1 # add 1 more, otherwise there will be a out ouf bound index error\n",
    "vocab_size\n",
    "# tokenizer.word_index"
   ]
  },
  {
   "cell_type": "markdown",
   "metadata": {
    "id": "epMc6_2wyKPo"
   },
   "source": [
    "vocab_size = 32751"
   ]
  },
  {
   "cell_type": "code",
   "execution_count": 227,
   "metadata": {
    "executionInfo": {
     "elapsed": 2,
     "status": "ok",
     "timestamp": 1687955683911,
     "user": {
      "displayName": "Shehan DMG",
      "userId": "14911428634724278187"
     },
     "user_tz": -330
    },
    "id": "uztFDo2hbAxb"
   },
   "outputs": [],
   "source": [
    "# convert panda dataframe of labels to numpy array\n",
    "train_labels = np.array(train_labels)\n",
    "eval_labels = np.array(eval_labels)\n",
    "test_labels = np.array(test_labels)\n",
    "\n",
    "# convert each label to array of categorical values\n",
    "train_labels = keras.utils.to_categorical(train_labels,3)\n",
    "eval_labels = keras.utils.to_categorical(eval_labels,3)\n",
    "test_labels = keras.utils.to_categorical(test_labels,3)"
   ]
  },
  {
   "cell_type": "code",
   "execution_count": 75,
   "metadata": {
    "executionInfo": {
     "elapsed": 787,
     "status": "ok",
     "timestamp": 1687946330729,
     "user": {
      "displayName": "Shehan DMG",
      "userId": "14911428634724278187"
     },
     "user_tz": -330
    },
    "id": "MWqSZFYcwDHn"
   },
   "outputs": [],
   "source": [
    "train_features_seq = tokenizer.texts_to_sequences(train_features['tweet'])\n",
    "eval_features_seq = tokenizer.texts_to_sequences(eval_features['tweet'])"
   ]
  },
  {
   "cell_type": "markdown",
   "metadata": {
    "id": "_wXo_sVtnOuR"
   },
   "source": [
    "padding the arrays"
   ]
  },
  {
   "cell_type": "code",
   "execution_count": 76,
   "metadata": {
    "colab": {
     "base_uri": "https://localhost:8080/"
    },
    "executionInfo": {
     "elapsed": 549,
     "status": "ok",
     "timestamp": 1687946331274,
     "user": {
      "displayName": "Shehan DMG",
      "userId": "14911428634724278187"
     },
     "user_tz": -330
    },
    "id": "WqrbmjaVm98R",
    "outputId": "bea01b2e-c08e-4cb7-aeca-b5ae0b559a8f"
   },
   "outputs": [
    {
     "data": {
      "text/plain": [
       "60"
      ]
     },
     "execution_count": 76,
     "metadata": {},
     "output_type": "execute_result"
    }
   ],
   "source": [
    "train_features_seq = keras.utils.pad_sequences(train_features_seq,max_len,padding=padding_type)\n",
    "eval_features_seq = keras.utils.pad_sequences(eval_features_seq,max_len,padding=padding_type)\n",
    "len(train_features_seq[0])"
   ]
  },
  {
   "cell_type": "code",
   "execution_count": 77,
   "metadata": {
    "colab": {
     "base_uri": "https://localhost:8080/"
    },
    "executionInfo": {
     "elapsed": 686,
     "status": "ok",
     "timestamp": 1687946331958,
     "user": {
      "displayName": "Shehan DMG",
      "userId": "14911428634724278187"
     },
     "user_tz": -330
    },
    "id": "VEtZB7CxxDlX",
    "outputId": "d7c12f43-c507-47cc-dbac-5d8c42ae9237"
   },
   "outputs": [
    {
     "data": {
      "text/plain": [
       "(2886, 60)"
      ]
     },
     "execution_count": 77,
     "metadata": {},
     "output_type": "execute_result"
    }
   ],
   "source": [
    "train_features_seq = np.array(train_features_seq)\n",
    "eval_features_seq = np.array(eval_features_seq)\n",
    "eval_features_seq.shape"
   ]
  },
  {
   "cell_type": "markdown",
   "metadata": {
    "id": "WbjE39g9nzvQ"
   },
   "source": [
    "## Building the model"
   ]
  },
  {
   "cell_type": "code",
   "execution_count": 83,
   "metadata": {
    "executionInfo": {
     "elapsed": 713,
     "status": "ok",
     "timestamp": 1687946373125,
     "user": {
      "displayName": "Shehan DMG",
      "userId": "14911428634724278187"
     },
     "user_tz": -330
    },
    "id": "8OR-BeZSny0Q"
   },
   "outputs": [],
   "source": [
    "num_of_classes = len(feature_columns)\n",
    "\n",
    "# neural network 01\n",
    "model1 = keras.Sequential([\n",
    "    keras.layers.Embedding(vocab_size,32,input_length=max_len),\n",
    "    keras.layers.GlobalAveragePooling1D(),\n",
    "    keras.layers.Dense(24,activation='relu'),\n",
    "    keras.layers.Dense(num_of_classes,activation='softmax')\n",
    "])\n",
    "\n",
    "# neural network 02\n",
    "model2 = keras.Sequential([\n",
    "    keras.layers.Embedding(vocab_size,32,input_length=max_len),\n",
    "    keras.layers.Bidirectional(keras.layers.LSTM(32)),\n",
    "    keras.layers.Dense(num_of_classes,activation='softmax')\n",
    "])"
   ]
  },
  {
   "cell_type": "code",
   "execution_count": 84,
   "metadata": {
    "executionInfo": {
     "elapsed": 2,
     "status": "ok",
     "timestamp": 1687946390432,
     "user": {
      "displayName": "Shehan DMG",
      "userId": "14911428634724278187"
     },
     "user_tz": -330
    },
    "id": "GkYz8ItJVPJq"
   },
   "outputs": [],
   "source": [
    "model1.compile(loss='categorical_crossentropy', optimizer='adam', metrics=['accuracy'])\n",
    "model2.compile(loss='categorical_crossentropy', optimizer='adam', metrics=['accuracy'])"
   ]
  },
  {
   "cell_type": "code",
   "execution_count": 80,
   "metadata": {
    "colab": {
     "base_uri": "https://localhost:8080/"
    },
    "executionInfo": {
     "elapsed": 6,
     "status": "ok",
     "timestamp": 1687946334813,
     "user": {
      "displayName": "Shehan DMG",
      "userId": "14911428634724278187"
     },
     "user_tz": -330
    },
    "id": "53TNNlxYWNPi",
    "outputId": "0431494a-d54b-48bf-cde7-6b14fcdd1f9b"
   },
   "outputs": [
    {
     "name": "stdout",
     "output_type": "stream",
     "text": [
      "Model: \"sequential_1\"\n",
      "_________________________________________________________________\n",
      " Layer (type)                Output Shape              Param #   \n",
      "=================================================================\n",
      " embedding_1 (Embedding)     (None, 60, 32)            759392    \n",
      "                                                                 \n",
      " bidirectional_1 (Bidirectio  (None, 64)               16640     \n",
      " nal)                                                            \n",
      "                                                                 \n",
      " dense_1 (Dense)             (None, 3)                 195       \n",
      "                                                                 \n",
      "=================================================================\n",
      "Total params: 776,227\n",
      "Trainable params: 776,227\n",
      "Non-trainable params: 0\n",
      "_________________________________________________________________\n"
     ]
    }
   ],
   "source": [
    "model1.summary()"
   ]
  },
  {
   "cell_type": "markdown",
   "metadata": {
    "id": "NLnW0wSYd3es"
   },
   "source": [
    "## First model"
   ]
  },
  {
   "cell_type": "code",
   "execution_count": null,
   "metadata": {
    "id": "rK9_CvyKWstS"
   },
   "outputs": [],
   "source": [
    "epochs = 200\n",
    "\n",
    "early_stopping = tf.keras.callbacks.EarlyStopping(monitor='loss', patience=10)\n",
    "history = model1.fit(train_features_seq,train_labels,epochs=epochs,verbose=2,callbacks=[early_stopping])"
   ]
  },
  {
   "cell_type": "markdown",
   "metadata": {
    "id": "MOAeIL5ufnMF"
   },
   "source": [
    "It only ran 67 epochs because our early stopping functioning stopped the fitting. early stopping function is there to stop overfitting."
   ]
  },
  {
   "cell_type": "code",
   "execution_count": 86,
   "metadata": {
    "colab": {
     "base_uri": "https://localhost:8080/"
    },
    "executionInfo": {
     "elapsed": 3,
     "status": "ok",
     "timestamp": 1687946866710,
     "user": {
      "displayName": "Shehan DMG",
      "userId": "14911428634724278187"
     },
     "user_tz": -330
    },
    "id": "78ymTbZz4ELC",
    "outputId": "a50f0dd5-0a90-45e9-f52a-3bf65102b88e"
   },
   "outputs": [
    {
     "data": {
      "text/plain": [
       "0.9995884895324707"
      ]
     },
     "execution_count": 86,
     "metadata": {},
     "output_type": "execute_result"
    }
   ],
   "source": [
    "history.history['accuracy'][-1]"
   ]
  },
  {
   "cell_type": "code",
   "execution_count": 87,
   "metadata": {
    "colab": {
     "base_uri": "https://localhost:8080/",
     "height": 452
    },
    "executionInfo": {
     "elapsed": 1667,
     "status": "ok",
     "timestamp": 1687946882059,
     "user": {
      "displayName": "Shehan DMG",
      "userId": "14911428634724278187"
     },
     "user_tz": -330
    },
    "id": "_0SLs4-wcjZc",
    "outputId": "be56c5c4-02f3-4987-e38d-1a5e04a926ac"
   },
   "outputs": [
    {
     "data": {
      "image/png": "[encoded data removed]",
      "text/plain": [
       "<Figure size 640x480 with 1 Axes>"
      ]
     },
     "metadata": {},
     "output_type": "display_data"
    }
   ],
   "source": [
    "plt.plot(history.history['loss'])\n",
    "plt.xLabel='epoch'\n",
    "plt.yLabel='loss'\n",
    "plt.title('model 1 loss against epochs')\n",
    "plt.show()"
   ]
  },
  {
   "cell_type": "code",
   "execution_count": 88,
   "metadata": {
    "colab": {
     "base_uri": "https://localhost:8080/",
     "height": 452
    },
    "executionInfo": {
     "elapsed": 708,
     "status": "ok",
     "timestamp": 1687946882760,
     "user": {
      "displayName": "Shehan DMG",
      "userId": "14911428634724278187"
     },
     "user_tz": -330
    },
    "id": "ykZk7TGKcngc",
    "outputId": "b3502e8a-7d98-4429-c3c9-b8637fe15c35"
   },
   "outputs": [
    {
     "data": {
      "image/png": "[encoded data removed]",
      "text/plain": [
       "<Figure size 640x480 with 1 Axes>"
      ]
     },
     "metadata": {},
     "output_type": "display_data"
    }
   ],
   "source": [
    "plt.plot(history.history['accuracy'])\n",
    "plt.xLabel='epoch'\n",
    "plt.yLabel='accuracy'\n",
    "plt.title('model 1 accuracy against epochs')\n",
    "plt.show()"
   ]
  },
  {
   "cell_type": "markdown",
   "metadata": {
    "id": "vmj_MdfDeaQF"
   },
   "source": [
    "After about 15-20 epochs model1 is fully trained."
   ]
  },
  {
   "cell_type": "code",
   "execution_count": 91,
   "metadata": {
    "colab": {
     "base_uri": "https://localhost:8080/"
    },
    "executionInfo": {
     "elapsed": 439,
     "status": "ok",
     "timestamp": 1687946986901,
     "user": {
      "displayName": "Shehan DMG",
      "userId": "14911428634724278187"
     },
     "user_tz": -330
    },
    "id": "zhfcTbIWdi_U",
    "outputId": "11caf601-9a9c-4584-b878-446e40e5afa4"
   },
   "outputs": [
    {
     "name": "stdout",
     "output_type": "stream",
     "text": [
      "91/91 [==============================] - 0s 2ms/step - loss: 1.7043 - accuracy: 0.7855\n"
     ]
    }
   ],
   "source": [
    "loss1,acc1 = model1.evaluate(eval_features_seq,eval_labels)"
   ]
  },
  {
   "cell_type": "markdown",
   "metadata": {
    "id": "rth00AlnerrM"
   },
   "source": [
    "## model1's accuracy: 0.7855 with eval data."
   ]
  },
  {
   "cell_type": "markdown",
   "metadata": {
    "id": "RWaou8umdz4m"
   },
   "source": [
    "## Second model"
   ]
  },
  {
   "cell_type": "code",
   "execution_count": null,
   "metadata": {
    "id": "2TpiK2Mxc1cc"
   },
   "outputs": [],
   "source": [
    "epochs = 200\n",
    "\n",
    "early_stopping = tf.keras.callbacks.EarlyStopping(monitor='loss', patience=10)\n",
    "model2_history = model2.fit(train_features_seq,train_labels,epochs=epochs,verbose=2,callbacks=[early_stopping])"
   ]
  },
  {
   "cell_type": "code",
   "execution_count": 95,
   "metadata": {
    "colab": {
     "base_uri": "https://localhost:8080/",
     "height": 452
    },
    "executionInfo": {
     "elapsed": 4,
     "status": "ok",
     "timestamp": 1687948604470,
     "user": {
      "displayName": "Shehan DMG",
      "userId": "14911428634724278187"
     },
     "user_tz": -330
    },
    "id": "cpsxyIc-e6uk",
    "outputId": "1a395151-1feb-4686-ce35-f5201da75631"
   },
   "outputs": [
    {
     "data": {
      "image/png": "[encoded data removed]",
      "text/plain": [
       "<Figure size 640x480 with 1 Axes>"
      ]
     },
     "metadata": {},
     "output_type": "display_data"
    }
   ],
   "source": [
    "plt.plot(model2_history.history['loss'])\n",
    "plt.xLabel='epoch'\n",
    "plt.yLabel='loss'\n",
    "plt.title('model 2 loss against epochs')\n",
    "plt.show()"
   ]
  },
  {
   "cell_type": "code",
   "execution_count": 96,
   "metadata": {
    "colab": {
     "base_uri": "https://localhost:8080/",
     "height": 452
    },
    "executionInfo": {
     "elapsed": 4,
     "status": "ok",
     "timestamp": 1687948604907,
     "user": {
      "displayName": "Shehan DMG",
      "userId": "14911428634724278187"
     },
     "user_tz": -330
    },
    "id": "dbb-RH_Ke-8E",
    "outputId": "fa9ac846-29c6-4e1e-d763-4fff419e3ebc"
   },
   "outputs": [
    {
     "data": {
      "image/png": "[encoded data removed]",
      "text/plain": [
       "<Figure size 640x480 with 1 Axes>"
      ]
     },
     "metadata": {},
     "output_type": "display_data"
    }
   ],
   "source": [
    "plt.plot(model2_history.history['accuracy'])\n",
    "plt.xLabel='epoch'\n",
    "plt.yLabel='accuracy'\n",
    "plt.title('model 2 accuracy against epochs')\n",
    "plt.show()"
   ]
  },
  {
   "cell_type": "code",
   "execution_count": 97,
   "metadata": {
    "colab": {
     "base_uri": "https://localhost:8080/"
    },
    "executionInfo": {
     "elapsed": 3679,
     "status": "ok",
     "timestamp": 1687948654616,
     "user": {
      "displayName": "Shehan DMG",
      "userId": "14911428634724278187"
     },
     "user_tz": -330
    },
    "id": "fGiDwH-HlEn8",
    "outputId": "2c3999ae-0d50-47e2-cbb7-cb97eca7b7a6"
   },
   "outputs": [
    {
     "name": "stdout",
     "output_type": "stream",
     "text": [
      "91/91 [==============================] - 3s 26ms/step - loss: 1.3185 - accuracy: 0.8198\n"
     ]
    }
   ],
   "source": [
    "loss2,acc2 = model2.evaluate(eval_features_seq,eval_labels)"
   ]
  },
  {
   "cell_type": "markdown",
   "metadata": {
    "id": "XqKq-f-VlJUc"
   },
   "source": [
    "## Model2's accuracy: 0.8198 with eval data\n",
    "\n",
    "We'll use model2 since it is more accurate."
   ]
  },
  {
   "cell_type": "code",
   "execution_count": 104,
   "metadata": {
    "colab": {
     "base_uri": "https://localhost:8080/",
     "height": 206
    },
    "executionInfo": {
     "elapsed": 442,
     "status": "ok",
     "timestamp": 1687949076035,
     "user": {
      "displayName": "Shehan DMG",
      "userId": "14911428634724278187"
     },
     "user_tz": -330
    },
    "id": "vYbIxZLemYBk",
    "outputId": "949d35ac-eb52-4d4e-8452-fb813bf96b4b"
   },
   "outputs": [
    {
     "data": {
      "text/html": [
       "\n",
       "  <div id=\"df-95d67efc-9778-442b-98d7-5b2d5910d5bd\">\n",
       "    <div class=\"colab-df-container\">\n",
       "      <div>\n",
       "<style scoped>\n",
       "    .dataframe tbody tr th:only-of-type {\n",
       "        vertical-align: middle;\n",
       "    }\n",
       "\n",
       "    .dataframe tbody tr th {\n",
       "        vertical-align: top;\n",
       "    }\n",
       "\n",
       "    .dataframe thead th {\n",
       "        text-align: right;\n",
       "    }\n",
       "</style>\n",
       "<table border=\"1\" class=\"dataframe\">\n",
       "  <thead>\n",
       "    <tr style=\"text-align: right;\">\n",
       "      <th></th>\n",
       "      <th>tweet</th>\n",
       "    </tr>\n",
       "  </thead>\n",
       "  <tbody>\n",
       "    <tr>\n",
       "      <th>0</th>\n",
       "      <td>Elizabeth is a stupid hoe</td>\n",
       "    </tr>\n",
       "    <tr>\n",
       "      <th>1</th>\n",
       "      <td>Just spoke w/ @HispanicLinkNS legend, mentor C...</td>\n",
       "    </tr>\n",
       "    <tr>\n",
       "      <th>2</th>\n",
       "      <td>RT @anilkohli54: @mediacrooks so the ball did ...</td>\n",
       "    </tr>\n",
       "    <tr>\n",
       "      <th>3</th>\n",
       "      <td>RT @ImJustCeej: RT @BarackOMamba: RT @IntenseD...</td>\n",
       "    </tr>\n",
       "    <tr>\n",
       "      <th>4</th>\n",
       "      <td>Montana, Wisconsin, Maine, New Hampshire, Nort...</td>\n",
       "    </tr>\n",
       "  </tbody>\n",
       "</table>\n",
       "</div>\n",
       "      <button class=\"colab-df-convert\" onclick=\"convertToInteractive('df-95d67efc-9778-442b-98d7-5b2d5910d5bd')\"\n",
       "              title=\"Convert this dataframe to an interactive table.\"\n",
       "              style=\"display:none;\">\n",
       "        \n",
       "  <svg xmlns=\"http://www.w3.org/2000/svg\" height=\"24px\"viewBox=\"0 0 24 24\"\n",
       "       width=\"24px\">\n",
       "    <path d=\"M0 0h24v24H0V0z\" fill=\"none\"/>\n",
       "    <path d=\"M18.56 5.44l.94 2.06.94-2.06 2.06-.94-2.06-.94-.94-2.06-.94 2.06-2.06.94zm-11 1L8.5 8.5l.94-2.06 2.06-.94-2.06-.94L8.5 2.5l-.94 2.06-2.06.94zm10 10l.94 2.06.94-2.06 2.06-.94-2.06-.94-.94-2.06-.94 2.06-2.06.94z\"/><path d=\"M17.41 7.96l-1.37-1.37c-.4-.4-.92-.59-1.43-.59-.52 0-1.04.2-1.43.59L10.3 9.45l-7.72 7.72c-.78.78-.78 2.05 0 2.83L4 21.41c.39.39.9.59 1.41.59.51 0 1.02-.2 1.41-.59l7.78-7.78 2.81-2.81c.8-.78.8-2.07 0-2.86zM5.41 20L4 18.59l7.72-7.72 1.47 1.35L5.41 20z\"/>\n",
       "  </svg>\n",
       "      </button>\n",
       "      \n",
       "  <style>\n",
       "    .colab-df-container {\n",
       "      display:flex;\n",
       "      flex-wrap:wrap;\n",
       "      gap: 12px;\n",
       "    }\n",
       "\n",
       "    .colab-df-convert {\n",
       "      background-color: #E8F0FE;\n",
       "      border: none;\n",
       "      border-radius: 50%;\n",
       "      cursor: pointer;\n",
       "      display: none;\n",
       "      fill: #1967D2;\n",
       "      height: 32px;\n",
       "      padding: 0 0 0 0;\n",
       "      width: 32px;\n",
       "    }\n",
       "\n",
       "    .colab-df-convert:hover {\n",
       "      background-color: #E2EBFA;\n",
       "      box-shadow: 0px 1px 2px rgba(60, 64, 67, 0.3), 0px 1px 3px 1px rgba(60, 64, 67, 0.15);\n",
       "      fill: #174EA6;\n",
       "    }\n",
       "\n",
       "    [theme=dark] .colab-df-convert {\n",
       "      background-color: #3B4455;\n",
       "      fill: #D2E3FC;\n",
       "    }\n",
       "\n",
       "    [theme=dark] .colab-df-convert:hover {\n",
       "      background-color: #434B5C;\n",
       "      box-shadow: 0px 1px 3px 1px rgba(0, 0, 0, 0.15);\n",
       "      filter: drop-shadow(0px 1px 2px rgba(0, 0, 0, 0.3));\n",
       "      fill: #FFFFFF;\n",
       "    }\n",
       "  </style>\n",
       "\n",
       "      <script>\n",
       "        const buttonEl =\n",
       "          document.querySelector('#df-95d67efc-9778-442b-98d7-5b2d5910d5bd button.colab-df-convert');\n",
       "        buttonEl.style.display =\n",
       "          google.colab.kernel.accessAllowed ? 'block' : 'none';\n",
       "\n",
       "        async function convertToInteractive(key) {\n",
       "          const element = document.querySelector('#df-95d67efc-9778-442b-98d7-5b2d5910d5bd');\n",
       "          const dataTable =\n",
       "            await google.colab.kernel.invokeFunction('convertToInteractive',\n",
       "                                                     [key], {});\n",
       "          if (!dataTable) return;\n",
       "\n",
       "          const docLinkHtml = 'Like what you see? Visit the ' +\n",
       "            '<a target=\"_blank\" href=https://colab.research.google.com/notebooks/data_table.ipynb>data table notebook</a>'\n",
       "            + ' to learn more about interactive tables.';\n",
       "          element.innerHTML = '';\n",
       "          dataTable['output_type'] = 'display_data';\n",
       "          await google.colab.output.renderOutput(dataTable, element);\n",
       "          const docLink = document.createElement('div');\n",
       "          docLink.innerHTML = docLinkHtml;\n",
       "          element.appendChild(docLink);\n",
       "        }\n",
       "      </script>\n",
       "    </div>\n",
       "  </div>\n",
       "  "
      ],
      "text/plain": [
       "                                               tweet\n",
       "0                          Elizabeth is a stupid hoe\n",
       "1  Just spoke w/ @HispanicLinkNS legend, mentor C...\n",
       "2  RT @anilkohli54: @mediacrooks so the ball did ...\n",
       "3  RT @ImJustCeej: RT @BarackOMamba: RT @IntenseD...\n",
       "4  Montana, Wisconsin, Maine, New Hampshire, Nort..."
      ]
     },
     "execution_count": 104,
     "metadata": {},
     "output_type": "execute_result"
    }
   ],
   "source": [
    "# reset the index of test_features and labels\n",
    "test_features = test_features.reset_index(drop=True)\n",
    "test_features.head()"
   ]
  },
  {
   "cell_type": "code",
   "execution_count": 144,
   "metadata": {
    "executionInfo": {
     "elapsed": 425,
     "status": "ok",
     "timestamp": 1687952563664,
     "user": {
      "displayName": "Shehan DMG",
      "userId": "14911428634724278187"
     },
     "user_tz": -330
    },
    "id": "wbdCylrw3pwB"
   },
   "outputs": [],
   "source": [
    "model2.save('hate_comment_detection_with_nlp_v2.h5')"
   ]
  },
  {
   "cell_type": "code",
   "execution_count": 3,
   "metadata": {
    "executionInfo": {
     "elapsed": 1827,
     "status": "ok",
     "timestamp": 1687953993829,
     "user": {
      "displayName": "Shehan DMG",
      "userId": "14911428634724278187"
     },
     "user_tz": -330
    },
    "id": "Z8gksB2neq58"
   },
   "outputs": [],
   "source": [
    "model = keras.models.load_model('hate_comment_detection_with_nlp_v2.h5')"
   ]
  },
  {
   "cell_type": "code",
   "execution_count": 185,
   "metadata": {
    "colab": {
     "base_uri": "https://localhost:8080/"
    },
    "executionInfo": {
     "elapsed": 4593,
     "status": "ok",
     "timestamp": 1687953860829,
     "user": {
      "displayName": "Shehan DMG",
      "userId": "14911428634724278187"
     },
     "user_tz": -330
    },
    "id": "s14DgAC2c9-M",
    "outputId": "5e90e2b7-6150-4e9b-ce2c-2e85712d8bb1"
   },
   "outputs": [
    {
     "name": "stdout",
     "output_type": "stream",
     "text": [
      "pick a index below 152: 49\n",
      "1/1 [==============================] - 0s 43ms/step\n",
      "tweet is Homemade Soup is very good with vegetables on the side with crackers http://t.co/LiRwGwkdzE \n",
      "prediction/classification is ok .confidence 98.52267503738403 %\n"
     ]
    }
   ],
   "source": [
    "def manual_test(index):\n",
    "  encoded = tokenizer.texts_to_sequences([test_features.loc[index]['tweet']])\n",
    "  encoded = keras.utils.pad_sequences(encoded,60,padding='pre',truncating='post')\n",
    "  preds = model.predict(encoded)\n",
    "  pred = preds[-1]\n",
    "  classification = feature_columns[np.argmax(pred)]\n",
    "  confidence = np.max(pred) *100\n",
    "  print(\"tweet is\",test_features.loc[index]['tweet'],\"\\nprediction/classification is\",classification,\".confidence\",confidence,\"%\")\n",
    "\n",
    "index = input(\"pick a index below 152: \")\n",
    "manual_test(int(index))"
   ]
  },
  {
   "cell_type": "markdown",
   "metadata": {
    "id": "qDvp2_aoiq5t"
   },
   "source": [
    "Now let's predict our own comment.\n",
    "\n",
    "first we have to encode that using tokenizer."
   ]
  },
  {
   "cell_type": "code",
   "execution_count": 193,
   "metadata": {
    "executionInfo": {
     "elapsed": 3,
     "status": "ok",
     "timestamp": 1687953993829,
     "user": {
      "displayName": "Shehan DMG",
      "userId": "14911428634724278187"
     },
     "user_tz": -330
    },
    "id": "YdzPKj2sil3V"
   },
   "outputs": [],
   "source": [
    "import json\n",
    "\n",
    "with open('hate_comment_detection_with_nlp_word_index_v2.json', 'w') as file:\n",
    "    json.dump(tokenizer.word_index, file)"
   ]
  },
  {
   "cell_type": "code",
   "execution_count": 5,
   "metadata": {
    "executionInfo": {
     "elapsed": 2,
     "status": "ok",
     "timestamp": 1687953994293,
     "user": {
      "displayName": "Shehan DMG",
      "userId": "14911428634724278187"
     },
     "user_tz": -330
    },
    "id": "jOpmNKNajbld"
   },
   "outputs": [],
   "source": [
    "import json\n",
    "# Open the file containing the word index\n",
    "with open('hate_comment_detection_with_nlp_word_index_v2.json', 'r') as file:\n",
    "    data = json.load(file)\n",
    "\n",
    "# Convert the JSON data to a dictionary\n",
    "word_index = dict(data)"
   ]
  },
  {
   "cell_type": "markdown",
   "metadata": {
    "id": "qNVgno51qgAX"
   },
   "source": [
    "change the my_tweet and see the prediction"
   ]
  },
  {
   "cell_type": "code",
   "execution_count": 8,
   "metadata": {
    "colab": {
     "base_uri": "https://localhost:8080/"
    },
    "executionInfo": {
     "elapsed": 430,
     "status": "ok",
     "timestamp": 1687956146379,
     "user": {
      "displayName": "Shehan DMG",
      "userId": "14911428634724278187"
     },
     "user_tz": -330
    },
    "id": "ZlG_MN8pjrsV",
    "outputId": "40ae2de2-7367-4f39-9f3b-3b7bb3e1be34"
   },
   "outputs": [
    {
     "name": "stdout",
     "output_type": "stream",
     "text": [
      "1/1 [==============================] - 0s 23ms/step\n",
      "\n",
      "prediction/classification is ok\n"
     ]
    }
   ],
   "source": [
    "feature_columns = ['hate_speech','offensive_language','ok']\n",
    "\n",
    "my_tweet = \"I don't agree with you. I think your ideas dumb\"\n",
    "\n",
    "oov_token = '<oov>'\n",
    "\n",
    "tokenizer = Tokenizer(oov_token=oov_token)\n",
    "tokenizer.word_index = word_index\n",
    "encoded = tokenizer.texts_to_sequences([my_tweet])\n",
    "encoded = keras.utils.pad_sequences(encoded,60,padding='pre',truncating='post')\n",
    "\n",
    "pred = model.predict(encoded)\n",
    "\n",
    "classification = feature_columns[np.argmax(pred[-1])]\n",
    "confidence = np.max(pred[-1]) *100\n",
    "# if pred doesn't have at least 90% confidence I will consider as ok.\n",
    "if confidence < 90:\n",
    "  classification = 'ok'\n",
    "print(\"\\nprediction/classification is\",classification)"
   ]
  },
  {
   "cell_type": "markdown",
   "metadata": {
    "id": "x6SsnbBw6EsW"
   },
   "source": [
    "### Points for viewers\n",
    "\n",
    "* I did this just for testing out NLP in deep learning. Didn't go too much into optimising the model. You can tweak things and try to get a more efficient model.\n",
    "* Model is trained to classify comments/tweets. It may not give accurate predictions for other sentences in other contexts.\n"
   ]
  }
 ],
 "metadata": {
  "colab": {
   "authorship_tag": "ABX9TyMOaXrBcjR2YK+sUiQNU1ZS",
   "provenance": [
    {
     "file_id": "1LhgExpE9TrVmORzEaqREY5v6Adky1Ttn",
     "timestamp": 1687942069885
    }
   ]
  },
  "kernelspec": {
   "display_name": "Python 3 (ipykernel)",
   "language": "python",
   "name": "python3"
  },
  "language_info": {
   "codemirror_mode": {
    "name": "ipython",
    "version": 3
   },
   "file_extension": ".py",
   "mimetype": "text/x-python",
   "name": "python",
   "nbconvert_exporter": "python",
   "pygments_lexer": "ipython3",
   "version": "3.11.3"
  }
 },
 "nbformat": 4,
 "nbformat_minor": 4
}
